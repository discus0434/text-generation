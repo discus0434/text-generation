{
 "cells": [
  {
   "cell_type": "markdown",
   "metadata": {},
   "source": [
    "# Tweet Analysis (WIP)\n",
    "\n",
    "##### Analyze correlation between log-likelihood score and reactions to each tweet"
   ]
  },
  {
   "cell_type": "code",
   "execution_count": null,
   "metadata": {},
   "outputs": [],
   "source": [
    "from __future__ import annotations\n",
    "\n",
    "import os\n",
    "import subprocess\n",
    "from dataclasses import dataclass\n",
    "\n",
    "import tweepy\n",
    "from dotenv import load_dotenv\n",
    "import numpy as np\n",
    "import pandas as pd\n",
    "import plotly.graph_objects as go\n",
    "from plotly.subplots import make_subplots\n",
    "\n",
    "load_dotenv()\n",
    "\n",
    "@dataclass\n",
    "class AuthenticationInfo:\n",
    "    api_key: str = \"\",\n",
    "    api_secret_key: str = \"\",\n",
    "    bearer_token: str = \"\",\n",
    "    access_token: str = \"\",\n",
    "    access_token_secret: str = \"\","
   ]
  },
  {
   "cell_type": "code",
   "execution_count": null,
   "metadata": {},
   "outputs": [],
   "source": [
    "auth_info = AuthenticationInfo(\n",
    "    api_key=os.getenv(\"API_KEY\"),\n",
    "    api_secret_key=os.getenv(\"API_SECRET_KEY\"),\n",
    "    bearer_token=os.getenv(\"BEARER_TOKEN\"),\n",
    ")\n",
    "\n",
    "client = tweepy.Client(\n",
    "    consumer_key=auth_info.api_key,\n",
    "    consumer_secret=auth_info.api_secret_key,\n",
    "    bearer_token=auth_info.bearer_token,\n",
    ")"
   ]
  },
  {
   "cell_type": "code",
   "execution_count": null,
   "metadata": {},
   "outputs": [],
   "source": [
    "def get_tweets_for_eval(client: tweepy.Client, user_name: str, user_id: str | None = None, limit: int = 200) -> pd.DataFrame:\n",
    "\n",
    "    if user_id is None:\n",
    "        user_id = client.get_user(username=user_name).data[\"id\"]\n",
    "    \n",
    "    tweets = dict(\n",
    "        tweet_id=[],\n",
    "        text=[],\n",
    "        score=[],\n",
    "        n_likes=[],\n",
    "        n_retweets=[],\n",
    "    )\n",
    "    # Get tweets\n",
    "    for tweet in tweepy.Paginator(\n",
    "        client.get_users_tweets,\n",
    "        id=user_id,\n",
    "        max_results=100,\n",
    "        exclude=[\"retweets\"],\n",
    "        tweet_fields=[\"public_metrics\"],\n",
    "    ).flatten(limit=limit):\n",
    "        \n",
    "        # If log-likelihood score is not available, skip the tweet\n",
    "        if \"score: \" not in tweet.text:\n",
    "            continue\n",
    "        \n",
    "        splitted_tweet = tweet.text.split(\"score: \")\n",
    "        tweets[\"tweet_id\"].append(tweet.id)\n",
    "        tweets[\"text\"].append(splitted_tweet[0].replace(\"\\n\", \"<br>\"))\n",
    "        tweets[\"score\"].append(float(splitted_tweet[1]))\n",
    "        tweets[\"n_likes\"].append(tweet.data[\"public_metrics\"][\"like_count\"])\n",
    "        tweets[\"n_retweets\"].append(tweet.data[\"public_metrics\"][\"retweet_count\"])\n",
    "        \n",
    "    return pd.DataFrame(tweets)"
   ]
  },
  {
   "cell_type": "code",
   "execution_count": null,
   "metadata": {},
   "outputs": [],
   "source": [
    "df_tweets = get_tweets_for_eval(client=client, user_name=\"AI_15R\", limit=400)"
   ]
  },
  {
   "cell_type": "code",
   "execution_count": null,
   "metadata": {},
   "outputs": [],
   "source": [
    "fig = go.Figure()\n",
    "\n",
    "fig.add_trace(\n",
    "    go.Scatter(\n",
    "        x=df_tweets.n_likes + df_tweets.n_retweets,\n",
    "        y=df_tweets.score,\n",
    "        mode=\"markers\",\n",
    "        marker=go.scatter.Marker(\n",
    "            size=10,\n",
    "            color=\"skyblue\",\n",
    "        ),\n",
    "        hovertext=df_tweets.text,\n",
    "    )\n",
    ")\n",
    "\n",
    "fig.update_layout(\n",
    "    width=1200,\n",
    "    height=600,\n",
    "    title=\"AI_15Rのツイート評価\",\n",
    "    xaxis=dict(\n",
    "        title=\"Number of Likes + Retweets\",\n",
    "    ),\n",
    "    yaxis=dict(\n",
    "        title=\"Log-likelihood Score\",\n",
    "    ),\n",
    "    xaxis2=dict(\n",
    "        title=\"Number of Likes + Retweets\",\n",
    "    ),\n",
    "    yaxis2=dict(\n",
    "        title=\"Masked LM Score\",\n",
    "    ),\n",
    "    template=\"plotly_dark\",\n",
    "    font={\"family\": \"Ubuntu\", \"size\": 10},\n",
    "    showlegend=False,\n",
    ")\n",
    "\n",
    "fig.show()"
   ]
  }
 ],
 "metadata": {
  "kernelspec": {
   "display_name": "Python 3.9.12 ('textgen')",
   "language": "python",
   "name": "python3"
  },
  "language_info": {
   "codemirror_mode": {
    "name": "ipython",
    "version": 3
   },
   "file_extension": ".py",
   "mimetype": "text/x-python",
   "name": "python",
   "nbconvert_exporter": "python",
   "pygments_lexer": "ipython3",
   "version": "3.9.12"
  },
  "orig_nbformat": 4,
  "vscode": {
   "interpreter": {
    "hash": "80cfaf54ddc48834aebaa66aa95b4002d516e0c3f63b9bd458051d5ed5e0fa4f"
   }
  }
 },
 "nbformat": 4,
 "nbformat_minor": 2
}
