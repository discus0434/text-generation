{
  "cells": [
    {
      "cell_type": "markdown",
      "source": [
        "# Tweet Generation with GPT-2-ja Finetuned by Your Tweets\n",
        "Note: This notebook requires GPU Runtime. \n",
        "\n",
        "For Your Information:\n",
        "- [GoogleColaboratoryのGPU変更法！注意点は１つ](https://kenko-keep.com/google-colab-gpu/)"
      ],
      "metadata": {
        "id": "uqKRZZEoM6rQ"
      }
    },
    {
      "cell_type": "markdown",
      "source": [
        "## Check the GPU"
      ],
      "metadata": {
        "id": "47cUtuqHjYE0"
      }
    },
    {
      "cell_type": "code",
      "source": [
        "!nvidia-smi"
      ],
      "metadata": {
        "id": "GKEQPzf5PyPX"
      },
      "execution_count": null,
      "outputs": []
    },
    {
      "cell_type": "markdown",
      "source": [
        "## Initialize\n",
        "\n",
        "#### **Note:**\n",
        "**You should permit mounting Google Drive for running the following cells.**\n",
        "\n",
        "**This permission DOES NOT mean you send some personal data to third-party.**"
      ],
      "metadata": {
        "id": "xFKIgEQnTiG3"
      }
    },
    {
      "cell_type": "markdown",
      "source": [
        "### Mount Google Drive"
      ],
      "metadata": {
        "id": "tzL74cTrjdmx"
      }
    },
    {
      "cell_type": "code",
      "source": [
        "from google.colab import drive\n",
        "drive.mount('/content/drive')"
      ],
      "metadata": {
        "id": "0YQYB52pifqV"
      },
      "execution_count": null,
      "outputs": []
    },
    {
      "cell_type": "markdown",
      "source": [
        "### Install python3.9"
      ],
      "metadata": {
        "id": "OkAwK6f5_6B1"
      }
    },
    {
      "cell_type": "code",
      "source": [
        "%%bash\n",
        "  sudo add-apt-repository -y ppa:deadsnakes/ppa\n",
        "  sudo apt-get -y update\n",
        "  sudo apt-get -y install python3.9\n",
        "  sudo apt-get -y install python3.9-dev\n",
        "  sudo apt-get -y install python3-pip\n",
        "  sudo apt-get -y install python3.9-distutils\n",
        "  python3.9 -m pip install --upgrade setuptools\n",
        "  python3.9 -m pip install --upgrade pip\n",
        "  python3.9 -m pip install --upgrade distlib"
      ],
      "metadata": {
        "id": "Be3a2yik4Vt-"
      },
      "execution_count": null,
      "outputs": []
    },
    {
      "cell_type": "markdown",
      "source": [
        "### Install dependencies"
      ],
      "metadata": {
        "id": "sfQIijlFjgdD"
      }
    },
    {
      "cell_type": "code",
      "source": [
        "%%bash\n",
        "  WORKDIR=drive/MyDrive/text-generation\n",
        "  if [ ! -e $WORKDIR ]; then\n",
        "      git clone https://github.com/discus0434/text-generation.git\n",
        "      mv text-generation drive/MyDrive/\n",
        "  fi\n",
        "\n",
        "  cd drive/MyDrive/text-generation && python3.9 -m pip install -r requirements.txt"
      ],
      "metadata": {
        "id": "XFnIKefqp3Rr"
      },
      "execution_count": null,
      "outputs": []
    },
    {
      "cell_type": "code",
      "source": [
        "%cd \"drive/MyDrive/text-generation\""
      ],
      "metadata": {
        "id": "q0d4_sbmrV9O"
      },
      "execution_count": null,
      "outputs": []
    },
    {
      "cell_type": "markdown",
      "source": [
        "### Download the gpt2-ja-small model"
      ],
      "metadata": {
        "id": "HeuKvhIXkvfZ"
      }
    },
    {
      "cell_type": "code",
      "source": [
        "%%bash\n",
        "  chmod +x ./scripts/shell/setup.sh\n",
        "  MODEL_DIR=gpt2ja-small\n",
        "  if [ ! -e $MODEL_DIR ]; then\n",
        "      ./scripts/shell/setup.sh\n",
        "  fi"
      ],
      "metadata": {
        "id": "V4L5gRsZQQa_"
      },
      "execution_count": null,
      "outputs": []
    },
    {
      "cell_type": "markdown",
      "source": [
        "## Set Your API Tokens\n",
        "\n",
        "For Your Information:\n",
        "\n",
        "- [APIキー利用申請から発行までの手順解説](https://di-acc2.com/system/rpa/9688/)\n",
        "\n",
        "- [Twitter APIでRead-onlyと表示された時の対処法](https://toxublog.com/blog/Twitter_API_setting/)"
      ],
      "metadata": {
        "id": "BgfQhq0iS3SX"
      }
    },
    {
      "cell_type": "code",
      "source": [
        "API_KEY = \"\"  #@param{type:\"string\"}\n",
        "API_SECRET_KEY = \"\"  #@param{type:\"string\"}\n",
        "BEARER_TOKEN = \"\"  #@param{type:\"string\"}\n",
        "ACCESS_TOKEN = \"\"  #@param{type:\"string\"}\n",
        "ACCESS_TOKEN_SECRET = \"\"  #@param{type:\"string\"}\n",
        "\n",
        "with open(\"./.env\", \"a\") as f:  \n",
        "  f.write(f\"API_KEY={API_KEY}\\n\")\n",
        "  f.write(f\"API_SECRET_KEY={API_SECRET_KEY}\\n\")\n",
        "  f.write(f\"BEARER_TOKEN={BEARER_TOKEN}\\n\")\n",
        "  f.write(f\"ACCESS_TOKEN={ACCESS_TOKEN}\\n\")\n",
        "  f.write(f\"ACCESS_TOKEN_SECRET={ACCESS_TOKEN_SECRET}\\n\")"
      ],
      "metadata": {
        "id": "qYKocZBWSEwi",
        "cellView": "form"
      },
      "execution_count": null,
      "outputs": []
    },
    {
      "cell_type": "markdown",
      "source": [
        "## Download Tweets"
      ],
      "metadata": {
        "id": "e9ERNARs_wu9"
      }
    },
    {
      "cell_type": "code",
      "execution_count": null,
      "metadata": {
        "id": "IArFsX_HPwA7",
        "cellView": "form"
      },
      "outputs": [],
      "source": [
        "%%bash\n",
        "#@markdown ##Set Your Twitter ID\n",
        "USER_ID=\"_15R\"  #@param{type:\"string\"}\n",
        "\n",
        "#@markdown ##Set the Number of tweets you retrieve\n",
        "#@markdown - Number should be multiple of 200, and less than 3201.\n",
        "#@markdown - Because of API limit, number >= 800 will take a little bit long time.\n",
        "NUM_MAX_TWEETS=600  #@param{type:\"number\"}\n",
        "\n",
        "TWEET_PARH=./sample_texts\n",
        "if [ ! -e $TWEET_PARH ]; then\n",
        "    python3.9 ./scripts/python/download_tweets.py -u $USER_ID -max $NUM_MAX_TWEETS\n",
        "fi"
      ]
    },
    {
      "cell_type": "markdown",
      "source": [
        "## Generate!\n",
        "\n",
        "Note: If tweet generation ends with error, **TRY TO RE-RUN** this cell."
      ],
      "metadata": {
        "id": "G_2t4mKZMLCc"
      }
    },
    {
      "cell_type": "code",
      "source": [
        "#@markdown ###Set the number of tweets you generate\n",
        "NUM_GENERATION = 1  #@param{type:\"number\"}\n",
        "\n",
        "!python3.9 scripts/python/create_tweets.py -n $NUM_GENERATION --is_google_colab"
      ],
      "metadata": {
        "cellView": "form",
        "id": "MN1FScDgSIQE"
      },
      "execution_count": null,
      "outputs": []
    },
    {
      "cell_type": "code",
      "source": [
        ""
      ],
      "metadata": {
        "id": "ZYuJWYglEk4T"
      },
      "execution_count": null,
      "outputs": []
    }
  ],
  "metadata": {
    "kernelspec": {
      "display_name": "Python 3.9.12 ('textgen')",
      "language": "python",
      "name": "python3"
    },
    "language_info": {
      "codemirror_mode": {
        "name": "ipython",
        "version": 3
      },
      "file_extension": ".py",
      "mimetype": "text/x-python",
      "name": "python",
      "nbconvert_exporter": "python",
      "pygments_lexer": "ipython3",
      "version": "3.9.12"
    },
    "orig_nbformat": 4,
    "vscode": {
      "interpreter": {
        "hash": "80cfaf54ddc48834aebaa66aa95b4002d516e0c3f63b9bd458051d5ed5e0fa4f"
      }
    },
    "colab": {
      "name": "Tweet_Generation_with_GPT-2-ja_Finetuned_by_Your_Tweets.ipynb",
      "provenance": [],
      "collapsed_sections": []
    },
    "gpuClass": "standard",
    "accelerator": "GPU"
  },
  "nbformat": 4,
  "nbformat_minor": 0
}